{
 "cells": [
  {
   "cell_type": "code",
   "execution_count": 1,
   "metadata": {},
   "outputs": [
    {
     "data": {
      "text/html": [
       "2"
      ],
      "text/latex": [
       "2"
      ],
      "text/markdown": [
       "2"
      ],
      "text/plain": [
       "[1] 2"
      ]
     },
     "metadata": {},
     "output_type": "display_data"
    },
    {
     "data": {
      "text/html": [
       "1.4142135623731"
      ],
      "text/latex": [
       "1.4142135623731"
      ],
      "text/markdown": [
       "1.4142135623731"
      ],
      "text/plain": [
       "[1] 1.414214"
      ]
     },
     "metadata": {},
     "output_type": "display_data"
    },
    {
     "data": {
      "text/html": [
       "335.62343801216"
      ],
      "text/latex": [
       "335.62343801216"
      ],
      "text/markdown": [
       "335.62343801216"
      ],
      "text/plain": [
       "[1] 335.6234"
      ]
     },
     "metadata": {},
     "output_type": "display_data"
    },
    {
     "data": {
      "text/html": [
       "0.841470984807897"
      ],
      "text/latex": [
       "0.841470984807897"
      ],
      "text/markdown": [
       "0.841470984807897"
      ],
      "text/plain": [
       "[1] 0.841471"
      ]
     },
     "metadata": {},
     "output_type": "display_data"
    },
    {
     "data": {
      "text/html": [
       "625"
      ],
      "text/latex": [
       "625"
      ],
      "text/markdown": [
       "625"
      ],
      "text/plain": [
       "[1] 625"
      ]
     },
     "metadata": {},
     "output_type": "display_data"
    },
    {
     "data": {
      "text/html": [
       "0+1i"
      ],
      "text/latex": [
       "0+1i"
      ],
      "text/markdown": [
       "0+1i"
      ],
      "text/plain": [
       "[1] 0+1i"
      ]
     },
     "metadata": {},
     "output_type": "display_data"
    }
   ],
   "source": [
    "1 + 1\n",
    "sqrt(2)\n",
    "20 + (26.8 * 23.4) / 2 + exp(1.34) * cos(1)\n",
    "sin(1)\n",
    "5^4\n",
    "sqrt(-1 + 0i)"
   ]
  },
  {
   "cell_type": "code",
   "execution_count": 63,
   "metadata": {},
   "outputs": [
    {
     "data": {
      "text/html": [
       "'numeric'"
      ],
      "text/latex": [
       "'numeric'"
      ],
      "text/markdown": [
       "'numeric'"
      ],
      "text/plain": [
       "[1] \"numeric\""
      ]
     },
     "metadata": {},
     "output_type": "display_data"
    },
    {
     "ename": "ERROR",
     "evalue": "Error in eval(expr, envir, enclos): 객체 'old'를 찾을 수 없습니다\n",
     "output_type": "error",
     "traceback": [
      "Error in eval(expr, envir, enclos): 객체 'old'를 찾을 수 없습니다\nTraceback:\n"
     ]
    }
   ],
   "source": [
    "old.X <- 3\n",
    "class(old.X) # .도 이름이 될 수 있다.\n",
    "old"
   ]
  },
  {
   "cell_type": "markdown",
   "metadata": {},
   "source": [
    "### function"
   ]
  },
  {
   "cell_type": "code",
   "execution_count": 9,
   "metadata": {},
   "outputs": [
    {
     "data": {
      "text/plain": [
       "3.141593 with absolute error < 2.7e-05"
      ]
     },
     "metadata": {},
     "output_type": "display_data"
    }
   ],
   "source": [
    "integrand <- function(x) {1 / ((x + 1) * sqrt(x))} # {} 생략가능하구나!\n",
    "integrand <- function(x) 1 / ((x + 1) * sqrt(x)) # {} 생략가능하구나!\n",
    "integrate(integrand, lower = 0, upper = Inf) # integrate from lower to upper\n"
   ]
  },
  {
   "cell_type": "code",
   "execution_count": 3,
   "metadata": {},
   "outputs": [],
   "source": [
    "?integrate"
   ]
  },
  {
   "cell_type": "code",
   "execution_count": 14,
   "metadata": {},
   "outputs": [],
   "source": [
    "# new 내재 객체 존재\n",
    "new.X <-2.3"
   ]
  },
  {
   "cell_type": "code",
   "execution_count": 15,
   "metadata": {},
   "outputs": [
    {
     "data": {
      "text/html": [
       "<pre class=language-r><code>function (Class, ...) \n",
       "{\n",
       "<span style=white-space:pre-wrap>    ClassDef &lt;- getClass(Class, where = topenv(parent.frame()))</span>\n",
       "<span style=white-space:pre-wrap>    value &lt;- .Call(C_new_object, ClassDef)</span>\n",
       "<span style=white-space:pre-wrap>    initialize(value, ...)</span>\n",
       "}</code></pre>"
      ],
      "text/latex": [
       "\\begin{minted}{r}\n",
       "function (Class, ...) \n",
       "\\{\n",
       "    ClassDef <- getClass(Class, where = topenv(parent.frame()))\n",
       "    value <- .Call(C\\_new\\_object, ClassDef)\n",
       "    initialize(value, ...)\n",
       "\\}\n",
       "\\end{minted}"
      ],
      "text/markdown": [
       "```r\n",
       "function (Class, ...) \n",
       "{\n",
       "    ClassDef <- getClass(Class, where = topenv(parent.frame()))\n",
       "    value <- .Call(C_new_object, ClassDef)\n",
       "    initialize(value, ...)\n",
       "}\n",
       "```"
      ],
      "text/plain": [
       "function (Class, ...) \n",
       "{\n",
       "    ClassDef <- getClass(Class, where = topenv(parent.frame()))\n",
       "    value <- .Call(C_new_object, ClassDef)\n",
       "    initialize(value, ...)\n",
       "}\n",
       "<bytecode: 0x7f83822b8f80>\n",
       "<environment: namespace:methods>"
      ]
     },
     "metadata": {},
     "output_type": "display_data"
    }
   ],
   "source": [
    "new"
   ]
  },
  {
   "cell_type": "code",
   "execution_count": 23,
   "metadata": {},
   "outputs": [
    {
     "name": "stdout",
     "output_type": "stream",
     "text": [
      "function (Class, ...)  \n"
     ]
    },
    {
     "data": {
      "text/html": [
       "'function'"
      ],
      "text/latex": [
       "'function'"
      ],
      "text/markdown": [
       "'function'"
      ],
      "text/plain": [
       "[1] \"function\""
      ]
     },
     "metadata": {},
     "output_type": "display_data"
    }
   ],
   "source": [
    "str(new)\n",
    "class(new)"
   ]
  },
  {
   "cell_type": "code",
   "execution_count": 16,
   "metadata": {},
   "outputs": [
    {
     "data": {
      "text/html": [
       "2.3"
      ],
      "text/latex": [
       "2.3"
      ],
      "text/markdown": [
       "2.3"
      ],
      "text/plain": [
       "[1] 2.3"
      ]
     },
     "metadata": {},
     "output_type": "display_data"
    }
   ],
   "source": [
    "new.X"
   ]
  },
  {
   "cell_type": "markdown",
   "metadata": {},
   "source": [
    "### c object"
   ]
  },
  {
   "cell_type": "code",
   "execution_count": 25,
   "metadata": {},
   "outputs": [
    {
     "data": {
      "text/html": [
       "<ol class=list-inline>\n",
       "\t<li>'a'</li>\n",
       "\t<li>'2'</li>\n",
       "\t<li>'23'</li>\n",
       "</ol>\n"
      ],
      "text/latex": [
       "\\begin{enumerate*}\n",
       "\\item 'a'\n",
       "\\item '2'\n",
       "\\item '23'\n",
       "\\end{enumerate*}\n"
      ],
      "text/markdown": [
       "1. 'a'\n",
       "2. '2'\n",
       "3. '23'\n",
       "\n",
       "\n"
      ],
      "text/plain": [
       "[1] \"a\"  \"2\"  \"23\""
      ]
     },
     "metadata": {},
     "output_type": "display_data"
    }
   ],
   "source": [
    "third_vector  <- c(\"a\", 2, 23)\n",
    "third_vector"
   ]
  },
  {
   "cell_type": "code",
   "execution_count": 28,
   "metadata": {},
   "outputs": [
    {
     "data": {
      "text/html": [
       "<ol class=list-inline>\n",
       "\t<li>'a'</li>\n",
       "\t<li>'2'</li>\n",
       "\t<li>'23'</li>\n",
       "\t<li>'7'</li>\n",
       "\t<li>'8'</li>\n",
       "\t<li>'9'</li>\n",
       "</ol>\n"
      ],
      "text/latex": [
       "\\begin{enumerate*}\n",
       "\\item 'a'\n",
       "\\item '2'\n",
       "\\item '23'\n",
       "\\item '7'\n",
       "\\item '8'\n",
       "\\item '9'\n",
       "\\end{enumerate*}\n"
      ],
      "text/markdown": [
       "1. 'a'\n",
       "2. '2'\n",
       "3. '23'\n",
       "4. '7'\n",
       "5. '8'\n",
       "6. '9'\n",
       "\n",
       "\n"
      ],
      "text/plain": [
       "[1] \"a\"  \"2\"  \"23\" \"7\"  \"8\"  \"9\" "
      ]
     },
     "metadata": {},
     "output_type": "display_data"
    },
    {
     "data": {
      "text/html": [
       "<ol class=list-inline>\n",
       "\t<li>'a'</li>\n",
       "\t<li>'7'</li>\n",
       "</ol>\n"
      ],
      "text/latex": [
       "\\begin{enumerate*}\n",
       "\\item 'a'\n",
       "\\item '7'\n",
       "\\end{enumerate*}\n"
      ],
      "text/markdown": [
       "1. 'a'\n",
       "2. '7'\n",
       "\n",
       "\n"
      ],
      "text/plain": [
       "[1] \"a\" \"7\""
      ]
     },
     "metadata": {},
     "output_type": "display_data"
    }
   ],
   "source": [
    "new_vector <- c(third_vector, 7, 8, 9)\n",
    "new_vector\n",
    "new_vector[c(1,4)]"
   ]
  },
  {
   "cell_type": "markdown",
   "metadata": {},
   "source": [
    "### matrix object"
   ]
  },
  {
   "cell_type": "code",
   "execution_count": 29,
   "metadata": {},
   "outputs": [
    {
     "name": "stdout",
     "output_type": "stream",
     "text": [
      "     [,1] [,2] [,3]\n",
      "[1,]    1    3    5\n",
      "[2,]    2    4    6\n",
      "     [,1] [,2] [,3]\n",
      "[1,]    1    2    3\n",
      "[2,]    4    5    6\n"
     ]
    }
   ],
   "source": [
    "my_matrix <- matrix(c(1, 2, 3, 4, 5, 6),  nrow = 2, ncol = 3)\n",
    "print(my_matrix)\n",
    "my_matrix <- matrix(c(1, 2, 3, 4, 5, 6),  nrow = 2, ncol = 3, byrow=TRUE)\n",
    "print(my_matrix)"
   ]
  },
  {
   "cell_type": "code",
   "execution_count": 31,
   "metadata": {},
   "outputs": [
    {
     "data": {
      "text/html": [
       "<table>\n",
       "<caption>A matrix: 2 × 3 of type dbl</caption>\n",
       "<thead>\n",
       "\t<tr><th></th><th scope=col>column1</th><th scope=col>column2</th><th scope=col>c3</th></tr>\n",
       "</thead>\n",
       "<tbody>\n",
       "\t<tr><th scope=row>one</th><td>1</td><td>2</td><td>3</td></tr>\n",
       "\t<tr><th scope=row>hello</th><td>4</td><td>5</td><td>6</td></tr>\n",
       "</tbody>\n",
       "</table>\n"
      ],
      "text/latex": [
       "A matrix: 2 × 3 of type dbl\n",
       "\\begin{tabular}{r|lll}\n",
       "  & column1 & column2 & c3\\\\\n",
       "\\hline\n",
       "\tone & 1 & 2 & 3\\\\\n",
       "\thello & 4 & 5 & 6\\\\\n",
       "\\end{tabular}\n"
      ],
      "text/markdown": [
       "\n",
       "A matrix: 2 × 3 of type dbl\n",
       "\n",
       "| <!--/--> | column1 | column2 | c3 |\n",
       "|---|---|---|---|\n",
       "| one | 1 | 2 | 3 |\n",
       "| hello | 4 | 5 | 6 |\n",
       "\n"
      ],
      "text/plain": [
       "      column1 column2 c3\n",
       "one   1       2       3 \n",
       "hello 4       5       6 "
      ]
     },
     "metadata": {},
     "output_type": "display_data"
    }
   ],
   "source": [
    "dimnames(my_matrix) <- list(c(\"one\", \"hello\"),    c(\"column1\", \"column2\", \"c3\")) # row name, column name\n",
    "my_matrix"
   ]
  },
  {
   "cell_type": "code",
   "execution_count": 32,
   "metadata": {},
   "outputs": [
    {
     "data": {
      "text/html": [
       "<dl>\n",
       "\t<dt>$dim</dt>\n",
       "\t\t<dd><ol class=list-inline>\n",
       "\t<li>2</li>\n",
       "\t<li>3</li>\n",
       "</ol>\n",
       "</dd>\n",
       "\t<dt>$dimnames</dt>\n",
       "\t\t<dd><ol>\n",
       "\t<li><ol class=list-inline>\n",
       "\t<li>'one'</li>\n",
       "\t<li>'hello'</li>\n",
       "</ol>\n",
       "</li>\n",
       "\t<li><ol class=list-inline>\n",
       "\t<li>'column1'</li>\n",
       "\t<li>'column2'</li>\n",
       "\t<li>'c3'</li>\n",
       "</ol>\n",
       "</li>\n",
       "</ol>\n",
       "</dd>\n",
       "</dl>\n"
      ],
      "text/latex": [
       "\\begin{description}\n",
       "\\item[\\$dim] \\begin{enumerate*}\n",
       "\\item 2\n",
       "\\item 3\n",
       "\\end{enumerate*}\n",
       "\n",
       "\\item[\\$dimnames] \\begin{enumerate}\n",
       "\\item \\begin{enumerate*}\n",
       "\\item 'one'\n",
       "\\item 'hello'\n",
       "\\end{enumerate*}\n",
       "\n",
       "\\item \\begin{enumerate*}\n",
       "\\item 'column1'\n",
       "\\item 'column2'\n",
       "\\item 'c3'\n",
       "\\end{enumerate*}\n",
       "\n",
       "\\end{enumerate}\n",
       "\n",
       "\\end{description}\n"
      ],
      "text/markdown": [
       "$dim\n",
       ":   1. 2\n",
       "2. 3\n",
       "\n",
       "\n",
       "\n",
       "$dimnames\n",
       ":   1. 1. 'one'\n",
       "2. 'hello'\n",
       "\n",
       "\n",
       "\n",
       "2. 1. 'column1'\n",
       "2. 'column2'\n",
       "3. 'c3'\n",
       "\n",
       "\n",
       "\n",
       "\n",
       "\n",
       "\n",
       "\n",
       "\n"
      ],
      "text/plain": [
       "$dim\n",
       "[1] 2 3\n",
       "\n",
       "$dimnames\n",
       "$dimnames[[1]]\n",
       "[1] \"one\"   \"hello\"\n",
       "\n",
       "$dimnames[[2]]\n",
       "[1] \"column1\" \"column2\" \"c3\"     \n",
       "\n"
      ]
     },
     "metadata": {},
     "output_type": "display_data"
    }
   ],
   "source": [
    "attributes(my_matrix)"
   ]
  },
  {
   "cell_type": "code",
   "execution_count": 37,
   "metadata": {},
   "outputs": [
    {
     "data": {
      "text/html": [
       "3"
      ],
      "text/latex": [
       "3"
      ],
      "text/markdown": [
       "3"
      ],
      "text/plain": [
       "[1] 3"
      ]
     },
     "metadata": {},
     "output_type": "display_data"
    },
    {
     "data": {
      "text/html": [
       "<table>\n",
       "<caption>A matrix: 2 × 3 of type dbl</caption>\n",
       "<thead>\n",
       "\t<tr><th></th><th scope=col>column1</th><th scope=col>column2</th><th scope=col>c3</th></tr>\n",
       "</thead>\n",
       "<tbody>\n",
       "\t<tr><th scope=row>one</th><td> 1</td><td> 4</td><td> 9</td></tr>\n",
       "\t<tr><th scope=row>hello</th><td>16</td><td>25</td><td>36</td></tr>\n",
       "</tbody>\n",
       "</table>\n"
      ],
      "text/latex": [
       "A matrix: 2 × 3 of type dbl\n",
       "\\begin{tabular}{r|lll}\n",
       "  & column1 & column2 & c3\\\\\n",
       "\\hline\n",
       "\tone &  1 &  4 &  9\\\\\n",
       "\thello & 16 & 25 & 36\\\\\n",
       "\\end{tabular}\n"
      ],
      "text/markdown": [
       "\n",
       "A matrix: 2 × 3 of type dbl\n",
       "\n",
       "| <!--/--> | column1 | column2 | c3 |\n",
       "|---|---|---|---|\n",
       "| one |  1 |  4 |  9 |\n",
       "| hello | 16 | 25 | 36 |\n",
       "\n"
      ],
      "text/plain": [
       "      column1 column2 c3\n",
       "one    1       4       9\n",
       "hello 16      25      36"
      ]
     },
     "metadata": {},
     "output_type": "display_data"
    },
    {
     "data": {
      "text/html": [
       "<table>\n",
       "<caption>A matrix: 2 × 3 of type dbl</caption>\n",
       "<thead>\n",
       "\t<tr><th></th><th scope=col>column1</th><th scope=col>column2</th><th scope=col>c3</th></tr>\n",
       "</thead>\n",
       "<tbody>\n",
       "\t<tr><th scope=row>one</th><td> 1</td><td> 4</td><td> 9</td></tr>\n",
       "\t<tr><th scope=row>hello</th><td>16</td><td>25</td><td>36</td></tr>\n",
       "</tbody>\n",
       "</table>\n"
      ],
      "text/latex": [
       "A matrix: 2 × 3 of type dbl\n",
       "\\begin{tabular}{r|lll}\n",
       "  & column1 & column2 & c3\\\\\n",
       "\\hline\n",
       "\tone &  1 &  4 &  9\\\\\n",
       "\thello & 16 & 25 & 36\\\\\n",
       "\\end{tabular}\n"
      ],
      "text/markdown": [
       "\n",
       "A matrix: 2 × 3 of type dbl\n",
       "\n",
       "| <!--/--> | column1 | column2 | c3 |\n",
       "|---|---|---|---|\n",
       "| one |  1 |  4 |  9 |\n",
       "| hello | 16 | 25 | 36 |\n",
       "\n"
      ],
      "text/plain": [
       "      column1 column2 c3\n",
       "one    1       4       9\n",
       "hello 16      25      36"
      ]
     },
     "metadata": {},
     "output_type": "display_data"
    }
   ],
   "source": [
    "ans <- my_matrix[1, 3]\n",
    "ans\n",
    "## [1] 3\n",
    "\n",
    "new_matrix <- my_matrix * my_matrix\n",
    "# print(\n",
    "    new_matrix\n",
    "# )\n",
    "\n",
    "my_matrix**2"
   ]
  },
  {
   "cell_type": "code",
   "execution_count": 36,
   "metadata": {},
   "outputs": [
    {
     "data": {
      "text/html": [
       "<table>\n",
       "<caption>A matrix: 5 × 5 of type dbl</caption>\n",
       "<tbody>\n",
       "\t<tr><td>-2.176</td><td> 0.568</td><td>-1.047</td><td> 0.857</td><td>-0.507</td></tr>\n",
       "\t<tr><td>-1.191</td><td>-0.594</td><td>-1.670</td><td> 0.485</td><td>-1.148</td></tr>\n",
       "\t<tr><td> 1.110</td><td>-0.311</td><td> 0.670</td><td>-0.313</td><td>-0.120</td></tr>\n",
       "\t<tr><td> 0.041</td><td>-1.092</td><td>-1.228</td><td>-0.858</td><td> 1.077</td></tr>\n",
       "\t<tr><td> 1.149</td><td> 3.573</td><td>-0.280</td><td>-0.579</td><td>-0.619</td></tr>\n",
       "</tbody>\n",
       "</table>\n"
      ],
      "text/latex": [
       "A matrix: 5 × 5 of type dbl\n",
       "\\begin{tabular}{lllll}\n",
       "\t -2.176 &  0.568 & -1.047 &  0.857 & -0.507\\\\\n",
       "\t -1.191 & -0.594 & -1.670 &  0.485 & -1.148\\\\\n",
       "\t  1.110 & -0.311 &  0.670 & -0.313 & -0.120\\\\\n",
       "\t  0.041 & -1.092 & -1.228 & -0.858 &  1.077\\\\\n",
       "\t  1.149 &  3.573 & -0.280 & -0.579 & -0.619\\\\\n",
       "\\end{tabular}\n"
      ],
      "text/markdown": [
       "\n",
       "A matrix: 5 × 5 of type dbl\n",
       "\n",
       "| -2.176 |  0.568 | -1.047 |  0.857 | -0.507 |\n",
       "| -1.191 | -0.594 | -1.670 |  0.485 | -1.148 |\n",
       "|  1.110 | -0.311 |  0.670 | -0.313 | -0.120 |\n",
       "|  0.041 | -1.092 | -1.228 | -0.858 |  1.077 |\n",
       "|  1.149 |  3.573 | -0.280 | -0.579 | -0.619 |\n",
       "\n"
      ],
      "text/plain": [
       "     [,1]   [,2]   [,3]   [,4]   [,5]  \n",
       "[1,] -2.176  0.568 -1.047  0.857 -0.507\n",
       "[2,] -1.191 -0.594 -1.670  0.485 -1.148\n",
       "[3,]  1.110 -0.311  0.670 -0.313 -0.120\n",
       "[4,]  0.041 -1.092 -1.228 -0.858  1.077\n",
       "[5,]  1.149  3.573 -0.280 -0.579 -0.619"
      ]
     },
     "metadata": {},
     "output_type": "display_data"
    },
    {
     "data": {
      "text/html": [
       "<table>\n",
       "<caption>A matrix: 9 × 7 of type dbl</caption>\n",
       "<tbody>\n",
       "\t<tr><td>0</td><td>5</td><td> 0</td><td>1</td><td>1</td><td>0</td><td>1</td></tr>\n",
       "\t<tr><td>0</td><td>1</td><td> 0</td><td>3</td><td>0</td><td>1</td><td>0</td></tr>\n",
       "\t<tr><td>0</td><td>1</td><td> 0</td><td>0</td><td>0</td><td>0</td><td>1</td></tr>\n",
       "\t<tr><td>1</td><td>0</td><td> 1</td><td>2</td><td>1</td><td>1</td><td>0</td></tr>\n",
       "\t<tr><td>0</td><td>1</td><td>13</td><td>0</td><td>0</td><td>0</td><td>0</td></tr>\n",
       "\t<tr><td>2</td><td>0</td><td> 3</td><td>0</td><td>0</td><td>4</td><td>0</td></tr>\n",
       "\t<tr><td>1</td><td>0</td><td> 0</td><td>1</td><td>0</td><td>0</td><td>3</td></tr>\n",
       "\t<tr><td>4</td><td>0</td><td> 0</td><td>2</td><td>0</td><td>1</td><td>0</td></tr>\n",
       "\t<tr><td>0</td><td>0</td><td> 1</td><td>0</td><td>1</td><td>3</td><td>0</td></tr>\n",
       "</tbody>\n",
       "</table>\n"
      ],
      "text/latex": [
       "A matrix: 9 × 7 of type dbl\n",
       "\\begin{tabular}{lllllll}\n",
       "\t 0 & 5 &  0 & 1 & 1 & 0 & 1\\\\\n",
       "\t 0 & 1 &  0 & 3 & 0 & 1 & 0\\\\\n",
       "\t 0 & 1 &  0 & 0 & 0 & 0 & 1\\\\\n",
       "\t 1 & 0 &  1 & 2 & 1 & 1 & 0\\\\\n",
       "\t 0 & 1 & 13 & 0 & 0 & 0 & 0\\\\\n",
       "\t 2 & 0 &  3 & 0 & 0 & 4 & 0\\\\\n",
       "\t 1 & 0 &  0 & 1 & 0 & 0 & 3\\\\\n",
       "\t 4 & 0 &  0 & 2 & 0 & 1 & 0\\\\\n",
       "\t 0 & 0 &  1 & 0 & 1 & 3 & 0\\\\\n",
       "\\end{tabular}\n"
      ],
      "text/markdown": [
       "\n",
       "A matrix: 9 × 7 of type dbl\n",
       "\n",
       "| 0 | 5 |  0 | 1 | 1 | 0 | 1 |\n",
       "| 0 | 1 |  0 | 3 | 0 | 1 | 0 |\n",
       "| 0 | 1 |  0 | 0 | 0 | 0 | 1 |\n",
       "| 1 | 0 |  1 | 2 | 1 | 1 | 0 |\n",
       "| 0 | 1 | 13 | 0 | 0 | 0 | 0 |\n",
       "| 2 | 0 |  3 | 0 | 0 | 4 | 0 |\n",
       "| 1 | 0 |  0 | 1 | 0 | 0 | 3 |\n",
       "| 4 | 0 |  0 | 2 | 0 | 1 | 0 |\n",
       "| 0 | 0 |  1 | 0 | 1 | 3 | 0 |\n",
       "\n"
      ],
      "text/plain": [
       "      [,1] [,2] [,3] [,4] [,5] [,6] [,7]\n",
       " [1,] 0    5     0   1    1    0    1   \n",
       " [2,] 0    1     0   3    0    1    0   \n",
       " [3,] 0    1     0   0    0    0    1   \n",
       " [4,] 1    0     1   2    1    1    0   \n",
       " [5,] 0    1    13   0    0    0    0   \n",
       " [6,] 2    0     3   0    0    4    0   \n",
       " [7,] 1    0     0   1    0    0    3   \n",
       " [8,] 4    0     0   2    0    1    0   \n",
       " [9,] 0    0     1   0    1    3    0   "
      ]
     },
     "metadata": {},
     "output_type": "display_data"
    }
   ],
   "source": [
    "mat1 <- matrix(rnorm(1000), nrow = 100)\n",
    "round(mat1[1:5, 2:6], 3)\n",
    "\n",
    "mat2 <- mat1[1:25, ] ^ 2\n",
    "head(round(mat2, 0), 9)[,1:7]   "
   ]
  },
  {
   "cell_type": "markdown",
   "metadata": {},
   "source": [
    "### dataframe object"
   ]
  },
  {
   "cell_type": "code",
   "execution_count": 43,
   "metadata": {},
   "outputs": [
    {
     "data": {
      "text/html": [
       "'numeric'"
      ],
      "text/latex": [
       "'numeric'"
      ],
      "text/markdown": [
       "'numeric'"
      ],
      "text/plain": [
       "[1] \"numeric\""
      ]
     },
     "metadata": {},
     "output_type": "display_data"
    },
    {
     "data": {
      "text/html": [
       "<dl class=dl-horizontal>\n",
       "\t<dt>price</dt>\n",
       "\t\t<dd>'numeric'</dd>\n",
       "\t<dt>symbol</dt>\n",
       "\t\t<dd>'factor'</dd>\n",
       "\t<dt>action</dt>\n",
       "\t\t<dd>'factor'</dd>\n",
       "</dl>\n"
      ],
      "text/latex": [
       "\\begin{description*}\n",
       "\\item[price] 'numeric'\n",
       "\\item[symbol] 'factor'\n",
       "\\item[action] 'factor'\n",
       "\\end{description*}\n"
      ],
      "text/markdown": [
       "price\n",
       ":   'numeric'symbol\n",
       ":   'factor'action\n",
       ":   'factor'\n",
       "\n"
      ],
      "text/plain": [
       "    price    symbol    action \n",
       "\"numeric\"  \"factor\"  \"factor\" "
      ]
     },
     "metadata": {},
     "output_type": "display_data"
    }
   ],
   "source": [
    "df <- data.frame(price  = c(89.2, 23.2, 21.2),\n",
    "  symbol = c(\"MOT\", \"AAPL\", \"IBM\"),\n",
    "  action = c(\"Buy\", \"Sell\", \"Buy\")) # columns\n",
    "\n",
    "# checking data type\n",
    "class(df$price) # each column\n",
    "sapply(df, class) # all column"
   ]
  },
  {
   "cell_type": "code",
   "execution_count": 44,
   "metadata": {},
   "outputs": [
    {
     "data": {
      "text/html": [
       "<dl class=dl-horizontal>\n",
       "\t<dt>price</dt>\n",
       "\t\t<dd>'numeric'</dd>\n",
       "\t<dt>symbol</dt>\n",
       "\t\t<dd>'character'</dd>\n",
       "\t<dt>action</dt>\n",
       "\t\t<dd>'character'</dd>\n",
       "</dl>\n"
      ],
      "text/latex": [
       "\\begin{description*}\n",
       "\\item[price] 'numeric'\n",
       "\\item[symbol] 'character'\n",
       "\\item[action] 'character'\n",
       "\\end{description*}\n"
      ],
      "text/markdown": [
       "price\n",
       ":   'numeric'symbol\n",
       ":   'character'action\n",
       ":   'character'\n",
       "\n"
      ],
      "text/plain": [
       "      price      symbol      action \n",
       "  \"numeric\" \"character\" \"character\" "
      ]
     },
     "metadata": {},
     "output_type": "display_data"
    }
   ],
   "source": [
    "df3 <-data.frame(price  = c(89.2, 23.2, 21.2),\n",
    "  symbol = c(\"MOT\", \"AAPL\", \"IBM\"),\n",
    "  action = c(\"Buy\", \"Sell\", \"Buy\"),\n",
    "  stringsAsFactors = FALSE)\n",
    "sapply(df3, class)"
   ]
  },
  {
   "cell_type": "code",
   "execution_count": 46,
   "metadata": {},
   "outputs": [
    {
     "data": {
      "text/html": [
       "<ol class=list-inline>\n",
       "\t<li>MOT</li>\n",
       "\t<li>AAPL</li>\n",
       "\t<li>IBM</li>\n",
       "</ol>\n",
       "\n",
       "<details>\n",
       "\t<summary style=display:list-item;cursor:pointer>\n",
       "\t\t<strong>Levels</strong>:\n",
       "\t</summary>\n",
       "\t<ol class=list-inline>\n",
       "\t\t<li>'AAPL'</li>\n",
       "\t\t<li>'IBM'</li>\n",
       "\t\t<li>'MOT'</li>\n",
       "\t</ol>\n",
       "</details>"
      ],
      "text/latex": [
       "\\begin{enumerate*}\n",
       "\\item MOT\n",
       "\\item AAPL\n",
       "\\item IBM\n",
       "\\end{enumerate*}\n",
       "\n",
       "\\emph{Levels}: \\begin{enumerate*}\n",
       "\\item 'AAPL'\n",
       "\\item 'IBM'\n",
       "\\item 'MOT'\n",
       "\\end{enumerate*}\n"
      ],
      "text/markdown": [
       "1. MOT\n",
       "2. AAPL\n",
       "3. IBM\n",
       "\n",
       "\n",
       "\n",
       "**Levels**: 1. 'AAPL'\n",
       "2. 'IBM'\n",
       "3. 'MOT'\n",
       "\n",
       "\n"
      ],
      "text/plain": [
       "[1] MOT  AAPL IBM \n",
       "Levels: AAPL IBM MOT"
      ]
     },
     "metadata": {},
     "output_type": "display_data"
    }
   ],
   "source": [
    "symbols <- df$symbol\n",
    "symbols"
   ]
  },
  {
   "cell_type": "markdown",
   "metadata": {},
   "source": [
    "### list object"
   ]
  },
  {
   "cell_type": "code",
   "execution_count": 47,
   "metadata": {},
   "outputs": [],
   "source": [
    "my_list <- list(a = c(1, 2, 3, 4, 5),\n",
    "  b = matrix(1:10, nrow = 2, ncol = 5),\n",
    "  c = data.frame(price = c(89.3, 98.2, 21.2),\n",
    "  stock = c(\"MOT\", \"IBM\", \"CSCO\")))"
   ]
  },
  {
   "cell_type": "code",
   "execution_count": 48,
   "metadata": {},
   "outputs": [
    {
     "data": {
      "text/html": [
       "<dl>\n",
       "\t<dt>$a</dt>\n",
       "\t\t<dd><ol class=list-inline>\n",
       "\t<li>1</li>\n",
       "\t<li>2</li>\n",
       "\t<li>3</li>\n",
       "\t<li>4</li>\n",
       "\t<li>5</li>\n",
       "</ol>\n",
       "</dd>\n",
       "\t<dt>$b</dt>\n",
       "\t\t<dd><table>\n",
       "<caption>A matrix: 2 × 5 of type int</caption>\n",
       "<tbody>\n",
       "\t<tr><td>1</td><td>3</td><td>5</td><td>7</td><td> 9</td></tr>\n",
       "\t<tr><td>2</td><td>4</td><td>6</td><td>8</td><td>10</td></tr>\n",
       "</tbody>\n",
       "</table>\n",
       "</dd>\n",
       "\t<dt>$c</dt>\n",
       "\t\t<dd><table>\n",
       "<caption>A data.frame: 3 × 2</caption>\n",
       "<thead>\n",
       "\t<tr><th scope=col>price</th><th scope=col>stock</th></tr>\n",
       "\t<tr><th scope=col>&lt;dbl&gt;</th><th scope=col>&lt;fct&gt;</th></tr>\n",
       "</thead>\n",
       "<tbody>\n",
       "\t<tr><td>89.3</td><td>MOT </td></tr>\n",
       "\t<tr><td>98.2</td><td>IBM </td></tr>\n",
       "\t<tr><td>21.2</td><td>CSCO</td></tr>\n",
       "</tbody>\n",
       "</table>\n",
       "</dd>\n",
       "</dl>\n"
      ],
      "text/latex": [
       "\\begin{description}\n",
       "\\item[\\$a] \\begin{enumerate*}\n",
       "\\item 1\n",
       "\\item 2\n",
       "\\item 3\n",
       "\\item 4\n",
       "\\item 5\n",
       "\\end{enumerate*}\n",
       "\n",
       "\\item[\\$b] A matrix: 2 × 5 of type int\n",
       "\\begin{tabular}{lllll}\n",
       "\t 1 & 3 & 5 & 7 &  9\\\\\n",
       "\t 2 & 4 & 6 & 8 & 10\\\\\n",
       "\\end{tabular}\n",
       "\n",
       "\\item[\\$c] A data.frame: 3 × 2\n",
       "\\begin{tabular}{r|ll}\n",
       " price & stock\\\\\n",
       " <dbl> & <fct>\\\\\n",
       "\\hline\n",
       "\t 89.3 & MOT \\\\\n",
       "\t 98.2 & IBM \\\\\n",
       "\t 21.2 & CSCO\\\\\n",
       "\\end{tabular}\n",
       "\n",
       "\\end{description}\n"
      ],
      "text/markdown": [
       "$a\n",
       ":   1. 1\n",
       "2. 2\n",
       "3. 3\n",
       "4. 4\n",
       "5. 5\n",
       "\n",
       "\n",
       "\n",
       "$b\n",
       ":   \n",
       "A matrix: 2 × 5 of type int\n",
       "\n",
       "| 1 | 3 | 5 | 7 |  9 |\n",
       "| 2 | 4 | 6 | 8 | 10 |\n",
       "\n",
       "\n",
       "$c\n",
       ":   \n",
       "A data.frame: 3 × 2\n",
       "\n",
       "| price &lt;dbl&gt; | stock &lt;fct&gt; |\n",
       "|---|---|\n",
       "| 89.3 | MOT  |\n",
       "| 98.2 | IBM  |\n",
       "| 21.2 | CSCO |\n",
       "\n",
       "\n",
       "\n",
       "\n"
      ],
      "text/plain": [
       "$a\n",
       "[1] 1 2 3 4 5\n",
       "\n",
       "$b\n",
       "     [,1] [,2] [,3] [,4] [,5]\n",
       "[1,]    1    3    5    7    9\n",
       "[2,]    2    4    6    8   10\n",
       "\n",
       "$c\n",
       "  price stock\n",
       "1  89.3   MOT\n",
       "2  98.2   IBM\n",
       "3  21.2  CSCO\n"
      ]
     },
     "metadata": {},
     "output_type": "display_data"
    }
   ],
   "source": [
    "my_list"
   ]
  },
  {
   "cell_type": "code",
   "execution_count": 50,
   "metadata": {},
   "outputs": [
    {
     "data": {
      "text/html": [
       "<dl class=dl-horizontal>\n",
       "\t<dt>a</dt>\n",
       "\t\t<dd>'numeric'</dd>\n",
       "\t<dt>b</dt>\n",
       "\t\t<dd>'matrix'</dd>\n",
       "\t<dt>c</dt>\n",
       "\t\t<dd>'data.frame'</dd>\n",
       "</dl>\n"
      ],
      "text/latex": [
       "\\begin{description*}\n",
       "\\item[a] 'numeric'\n",
       "\\item[b] 'matrix'\n",
       "\\item[c] 'data.frame'\n",
       "\\end{description*}\n"
      ],
      "text/markdown": [
       "a\n",
       ":   'numeric'b\n",
       ":   'matrix'c\n",
       ":   'data.frame'\n",
       "\n"
      ],
      "text/plain": [
       "           a            b            c \n",
       "   \"numeric\"     \"matrix\" \"data.frame\" "
      ]
     },
     "metadata": {},
     "output_type": "display_data"
    }
   ],
   "source": [
    "sapply(my_list, class)"
   ]
  },
  {
   "cell_type": "code",
   "execution_count": 55,
   "metadata": {},
   "outputs": [
    {
     "data": {
      "text/html": [
       "<strong>$a</strong> = <ol class=list-inline>\n",
       "\t<li>1</li>\n",
       "\t<li>2</li>\n",
       "\t<li>3</li>\n",
       "\t<li>4</li>\n",
       "\t<li>5</li>\n",
       "</ol>\n"
      ],
      "text/latex": [
       "\\textbf{\\$a} = \\begin{enumerate*}\n",
       "\\item 1\n",
       "\\item 2\n",
       "\\item 3\n",
       "\\item 4\n",
       "\\item 5\n",
       "\\end{enumerate*}\n"
      ],
      "text/markdown": [
       "**$a** = 1. 1\n",
       "2. 2\n",
       "3. 3\n",
       "4. 4\n",
       "5. 5\n",
       "\n",
       "\n"
      ],
      "text/plain": [
       "$a\n",
       "[1] 1 2 3 4 5\n"
      ]
     },
     "metadata": {},
     "output_type": "display_data"
    },
    {
     "data": {
      "text/html": [
       "<ol class=list-inline>\n",
       "\t<li>1</li>\n",
       "\t<li>2</li>\n",
       "\t<li>3</li>\n",
       "\t<li>4</li>\n",
       "\t<li>5</li>\n",
       "</ol>\n"
      ],
      "text/latex": [
       "\\begin{enumerate*}\n",
       "\\item 1\n",
       "\\item 2\n",
       "\\item 3\n",
       "\\item 4\n",
       "\\item 5\n",
       "\\end{enumerate*}\n"
      ],
      "text/markdown": [
       "1. 1\n",
       "2. 2\n",
       "3. 3\n",
       "4. 4\n",
       "5. 5\n",
       "\n",
       "\n"
      ],
      "text/plain": [
       "[1] 1 2 3 4 5"
      ]
     },
     "metadata": {},
     "output_type": "display_data"
    },
    {
     "data": {
      "text/html": [
       "<table>\n",
       "<caption>A matrix: 2 × 5 of type int</caption>\n",
       "<tbody>\n",
       "\t<tr><td>1</td><td>3</td><td>5</td><td>7</td><td> 9</td></tr>\n",
       "\t<tr><td>2</td><td>4</td><td>6</td><td>8</td><td>10</td></tr>\n",
       "</tbody>\n",
       "</table>\n"
      ],
      "text/latex": [
       "A matrix: 2 × 5 of type int\n",
       "\\begin{tabular}{lllll}\n",
       "\t 1 & 3 & 5 & 7 &  9\\\\\n",
       "\t 2 & 4 & 6 & 8 & 10\\\\\n",
       "\\end{tabular}\n"
      ],
      "text/markdown": [
       "\n",
       "A matrix: 2 × 5 of type int\n",
       "\n",
       "| 1 | 3 | 5 | 7 |  9 |\n",
       "| 2 | 4 | 6 | 8 | 10 |\n",
       "\n"
      ],
      "text/plain": [
       "     [,1] [,2] [,3] [,4] [,5]\n",
       "[1,] 1    3    5    7     9  \n",
       "[2,] 2    4    6    8    10  "
      ]
     },
     "metadata": {},
     "output_type": "display_data"
    }
   ],
   "source": [
    "my_list[1]\n",
    "\n",
    "my_list[[1]]\n",
    "# my_list['b']\n",
    "my_list[['b']]"
   ]
  },
  {
   "cell_type": "code",
   "execution_count": 56,
   "metadata": {},
   "outputs": [
    {
     "data": {
      "text/html": [
       "<dl>\n",
       "\t<dt>$a</dt>\n",
       "\t\t<dd><ol class=list-inline>\n",
       "\t<li>1</li>\n",
       "\t<li>2</li>\n",
       "\t<li>3</li>\n",
       "\t<li>4</li>\n",
       "\t<li>5</li>\n",
       "</ol>\n",
       "</dd>\n",
       "\t<dt>$c</dt>\n",
       "\t\t<dd><table>\n",
       "<caption>A data.frame: 3 × 2</caption>\n",
       "<thead>\n",
       "\t<tr><th scope=col>price</th><th scope=col>stock</th></tr>\n",
       "\t<tr><th scope=col>&lt;dbl&gt;</th><th scope=col>&lt;fct&gt;</th></tr>\n",
       "</thead>\n",
       "<tbody>\n",
       "\t<tr><td>89.3</td><td>MOT </td></tr>\n",
       "\t<tr><td>98.2</td><td>IBM </td></tr>\n",
       "\t<tr><td>21.2</td><td>CSCO</td></tr>\n",
       "</tbody>\n",
       "</table>\n",
       "</dd>\n",
       "</dl>\n"
      ],
      "text/latex": [
       "\\begin{description}\n",
       "\\item[\\$a] \\begin{enumerate*}\n",
       "\\item 1\n",
       "\\item 2\n",
       "\\item 3\n",
       "\\item 4\n",
       "\\item 5\n",
       "\\end{enumerate*}\n",
       "\n",
       "\\item[\\$c] A data.frame: 3 × 2\n",
       "\\begin{tabular}{r|ll}\n",
       " price & stock\\\\\n",
       " <dbl> & <fct>\\\\\n",
       "\\hline\n",
       "\t 89.3 & MOT \\\\\n",
       "\t 98.2 & IBM \\\\\n",
       "\t 21.2 & CSCO\\\\\n",
       "\\end{tabular}\n",
       "\n",
       "\\end{description}\n"
      ],
      "text/markdown": [
       "$a\n",
       ":   1. 1\n",
       "2. 2\n",
       "3. 3\n",
       "4. 4\n",
       "5. 5\n",
       "\n",
       "\n",
       "\n",
       "$c\n",
       ":   \n",
       "A data.frame: 3 × 2\n",
       "\n",
       "| price &lt;dbl&gt; | stock &lt;fct&gt; |\n",
       "|---|---|\n",
       "| 89.3 | MOT  |\n",
       "| 98.2 | IBM  |\n",
       "| 21.2 | CSCO |\n",
       "\n",
       "\n",
       "\n",
       "\n"
      ],
      "text/plain": [
       "$a\n",
       "[1] 1 2 3 4 5\n",
       "\n",
       "$c\n",
       "  price stock\n",
       "1  89.3   MOT\n",
       "2  98.2   IBM\n",
       "3  21.2  CSCO\n"
      ]
     },
     "metadata": {},
     "output_type": "display_data"
    }
   ],
   "source": [
    "my_list[c(1,3)]"
   ]
  },
  {
   "cell_type": "markdown",
   "metadata": {},
   "source": [
    "### new.env object"
   ]
  },
  {
   "cell_type": "code",
   "execution_count": 64,
   "metadata": {},
   "outputs": [
    {
     "data": {
      "text/plain": [
       "<environment: 0x7f8388d65758>"
      ]
     },
     "metadata": {},
     "output_type": "display_data"
    },
    {
     "data": {
      "text/html": [
       "<ol class=list-inline>\n",
       "\t<li>'first'</li>\n",
       "\t<li>'second'</li>\n",
       "\t<li>'third'</li>\n",
       "</ol>\n"
      ],
      "text/latex": [
       "\\begin{enumerate*}\n",
       "\\item 'first'\n",
       "\\item 'second'\n",
       "\\item 'third'\n",
       "\\end{enumerate*}\n"
      ],
      "text/markdown": [
       "1. 'first'\n",
       "2. 'second'\n",
       "3. 'third'\n",
       "\n",
       "\n"
      ],
      "text/plain": [
       "[1] \"first\"  \"second\" \"third\" "
      ]
     },
     "metadata": {},
     "output_type": "display_data"
    },
    {
     "data": {
      "text/html": [
       "5"
      ],
      "text/latex": [
       "5"
      ],
      "text/markdown": [
       "5"
      ],
      "text/plain": [
       "[1] 5"
      ]
     },
     "metadata": {},
     "output_type": "display_data"
    },
    {
     "data": {
      "text/html": [
       "<ol class=list-inline>\n",
       "\t<li>'first'</li>\n",
       "\t<li>'third'</li>\n",
       "</ol>\n"
      ],
      "text/latex": [
       "\\begin{enumerate*}\n",
       "\\item 'first'\n",
       "\\item 'third'\n",
       "\\end{enumerate*}\n"
      ],
      "text/markdown": [
       "1. 'first'\n",
       "2. 'third'\n",
       "\n",
       "\n"
      ],
      "text/plain": [
       "[1] \"first\" \"third\""
      ]
     },
     "metadata": {},
     "output_type": "display_data"
    },
    {
     "data": {
      "text/html": [
       "42"
      ],
      "text/latex": [
       "42"
      ],
      "text/markdown": [
       "42"
      ],
      "text/plain": [
       "[1] 42"
      ]
     },
     "metadata": {},
     "output_type": "display_data"
    }
   ],
   "source": [
    "env <- new.env()\n",
    "env[[\"first\"]] <- 5\n",
    "env[[\"second\"]] <- 6\n",
    "env$third <- 7\n",
    "\n",
    "env\n",
    "## <environment: 0x101ef2f18>\n",
    "\n",
    "ls(env)\n",
    "## [1] \"first\"  \"second\" \"third\"\n",
    "\n",
    "get(\"first\", envir = env)\n",
    "## 5\n",
    "\n",
    "rm(\"second\", envir = env)\n",
    "ls(env)\n",
    "## [1] \"first\" \"third\"\n",
    "\n",
    "env_2 <- env\n",
    "env_2$third <- 42\n",
    "\n",
    "get(\"third\", envir = env)"
   ]
  },
  {
   "cell_type": "markdown",
   "metadata": {},
   "source": [
    "### plot"
   ]
  },
  {
   "cell_type": "code",
   "execution_count": 66,
   "metadata": {},
   "outputs": [
    {
     "data": {
      "image/png": "[encoded data removed]",
      "text/plain": [
       "Plot with title “Some returns”"
      ]
     },
     "metadata": {
      "image/png": {
       "height": 420,
       "width": 420
      },
      "text/plain": {
       "height": 420,
       "width": 420
      }
     },
     "output_type": "display_data"
    }
   ],
   "source": [
    "plot(rnorm(1000), main = \"Some returns\", cex.main = 0.9,\n",
    "  xlab = \"Time\", ylab = \"Returns\")\n",
    "\n",
    "# Superimpose a basic grid\n",
    "grid()\n",
    "\n",
    "abline(v = 400, lwd = 2, lty = 1) # solid\n",
    "abline(h = 2, lwd = 3, lty = 3) # dot"
   ]
  },
  {
   "cell_type": "code",
   "execution_count": 71,
   "metadata": {},
   "outputs": [
    {
     "data": {
      "image/png": "[encoded data removed]",
      "text/plain": [
       "Plot with title “Graph 4”"
      ]
     },
     "metadata": {
      "image/png": {
       "height": 420,
       "width": 420
      },
      "text/plain": {
       "height": 420,
       "width": 420
      }
     },
     "output_type": "display_data"
    }
   ],
   "source": [
    "# Create a 2-row, 2-column format\n",
    "par(mfrow = c(2, 2))\n",
    "\n",
    "# First plot (points).\n",
    "plot(rnorm(100), main = \"Graph 1\")\n",
    "\n",
    "# Second plot (lines).\n",
    "plot(rnorm(100), main = \"Graph 2\", type = \"l\")\n",
    "legend(66, 3, \"A legend\")\n",
    "\n",
    "# Third plot (steps) with a vertical line\n",
    "plot(rnorm(100), main = \"Graph 3\", type = \"s\")\n",
    "abline(v = 50, lwd = 4)\n",
    "\n",
    "# Fourth plot\n",
    "plot(rnorm(100), type = \"h\", main = \"Graph 4\")\n",
    "mtext(\"Some text at the top\", side = 3)"
   ]
  },
  {
   "cell_type": "code",
   "execution_count": null,
   "metadata": {},
   "outputs": [],
   "source": [
    "# formals(plot.default)"
   ]
  },
  {
   "cell_type": "markdown",
   "metadata": {},
   "source": [
    "### Functional programming"
   ]
  },
  {
   "cell_type": "code",
   "execution_count": 81,
   "metadata": {},
   "outputs": [
    {
     "data": {
      "text/html": [
       "100"
      ],
      "text/latex": [
       "100"
      ],
      "text/markdown": [
       "100"
      ],
      "text/plain": [
       "[1] 100"
      ]
     },
     "metadata": {},
     "output_type": "display_data"
    },
    {
     "data": {
      "text/html": [
       "0.108887366914655"
      ],
      "text/latex": [
       "0.108887366914655"
      ],
      "text/markdown": [
       "0.108887366914655"
      ],
      "text/plain": [
       "[1] 0.1088874"
      ]
     },
     "metadata": {},
     "output_type": "display_data"
    },
    {
     "data": {
      "text/html": [
       "0.898199359660041"
      ],
      "text/latex": [
       "0.898199359660041"
      ],
      "text/markdown": [
       "0.898199359660041"
      ],
      "text/plain": [
       "[1] 0.8981994"
      ]
     },
     "metadata": {},
     "output_type": "display_data"
    },
    {
     "data": {
      "text/html": [
       "0.113909160788544"
      ],
      "text/latex": [
       "0.113909160788544"
      ],
      "text/markdown": [
       "0.113909160788544"
      ],
      "text/plain": [
       "[1] 0.1139092"
      ]
     },
     "metadata": {},
     "output_type": "display_data"
    },
    {
     "data": {
      "text/html": [
       "<ol class=list-inline>\n",
       "\t<li>-2.2146998871775</li>\n",
       "\t<li>2.40161776050478</li>\n",
       "</ol>\n"
      ],
      "text/latex": [
       "\\begin{enumerate*}\n",
       "\\item -2.2146998871775\n",
       "\\item 2.40161776050478\n",
       "\\end{enumerate*}\n"
      ],
      "text/markdown": [
       "1. -2.2146998871775\n",
       "2. 2.40161776050478\n",
       "\n",
       "\n"
      ],
      "text/plain": [
       "[1] -2.214700  2.401618"
      ]
     },
     "metadata": {},
     "output_type": "display_data"
    },
    {
     "data": {
      "text/html": [
       "10.8887366914655"
      ],
      "text/latex": [
       "10.8887366914655"
      ],
      "text/markdown": [
       "10.8887366914655"
      ],
      "text/plain": [
       "[1] 10.88874"
      ]
     },
     "metadata": {},
     "output_type": "display_data"
    },
    {
     "data": {
      "text/html": [
       "<ol class=list-inline>\n",
       "\t<li>-0.626453810742332</li>\n",
       "\t<li>-0.44281048652025</li>\n",
       "\t<li>-1.2784390989303</li>\n",
       "</ol>\n"
      ],
      "text/latex": [
       "\\begin{enumerate*}\n",
       "\\item -0.626453810742332\n",
       "\\item -0.44281048652025\n",
       "\\item -1.2784390989303\n",
       "\\end{enumerate*}\n"
      ],
      "text/markdown": [
       "1. -0.626453810742332\n",
       "2. -0.44281048652025\n",
       "3. -1.2784390989303\n",
       "\n",
       "\n"
      ],
      "text/plain": [
       "[1] -0.6264538 -0.4428105 -1.2784391"
      ]
     },
     "metadata": {},
     "output_type": "display_data"
    },
    {
     "data": {
      "text/html": [
       "<ol class=list-inline>\n",
       "\t<li>-0.626453810742332</li>\n",
       "\t<li>0.183643324222082</li>\n",
       "\t<li>-0.835628612410047</li>\n",
       "</ol>\n"
      ],
      "text/latex": [
       "\\begin{enumerate*}\n",
       "\\item -0.626453810742332\n",
       "\\item 0.183643324222082\n",
       "\\item -0.835628612410047\n",
       "\\end{enumerate*}\n"
      ],
      "text/markdown": [
       "1. -0.626453810742332\n",
       "2. 0.183643324222082\n",
       "3. -0.835628612410047\n",
       "\n",
       "\n"
      ],
      "text/plain": [
       "[1] -0.6264538  0.1836433 -0.8356286"
      ]
     },
     "metadata": {},
     "output_type": "display_data"
    },
    {
     "data": {
      "text/plain": [
       "   Min. 1st Qu.  Median    Mean 3rd Qu.    Max. \n",
       "-2.2147 -0.4942  0.1139  0.1089  0.6915  2.4016 "
      ]
     },
     "metadata": {},
     "output_type": "display_data"
    },
    {
     "data": {
      "text/html": [
       "<ol class=list-inline>\n",
       "\t<li>2.40161776050478</li>\n",
       "\t<li>2.17261167036215</li>\n",
       "\t<li>1.98039989850586</li>\n",
       "</ol>\n"
      ],
      "text/latex": [
       "\\begin{enumerate*}\n",
       "\\item 2.40161776050478\n",
       "\\item 2.17261167036215\n",
       "\\item 1.98039989850586\n",
       "\\end{enumerate*}\n"
      ],
      "text/markdown": [
       "1. 2.40161776050478\n",
       "2. 2.17261167036215\n",
       "3. 1.98039989850586\n",
       "\n",
       "\n"
      ],
      "text/plain": [
       "[1] 2.401618 2.172612 1.980400"
      ]
     },
     "metadata": {},
     "output_type": "display_data"
    },
    {
     "data": {
      "text/html": [
       "<ol class=list-inline>\n",
       "\t<li>0.810097134964415</li>\n",
       "\t<li>-1.01927193663213</li>\n",
       "\t<li>2.43090941454784</li>\n",
       "\t<li>-1.26577303032243</li>\n",
       "</ol>\n"
      ],
      "text/latex": [
       "\\begin{enumerate*}\n",
       "\\item 0.810097134964415\n",
       "\\item -1.01927193663213\n",
       "\\item 2.43090941454784\n",
       "\\item -1.26577303032243\n",
       "\\end{enumerate*}\n"
      ],
      "text/markdown": [
       "1. 0.810097134964415\n",
       "2. -1.01927193663213\n",
       "3. 2.43090941454784\n",
       "4. -1.26577303032243\n",
       "\n",
       "\n"
      ],
      "text/plain": [
       "[1]  0.8100971 -1.0192719  2.4309094 -1.2657730"
      ]
     },
     "metadata": {},
     "output_type": "display_data"
    },
    {
     "data": {
      "text/html": [
       "<ol class=list-inline>\n",
       "\t<li>1</li>\n",
       "\t<li>2</li>\n",
       "\t<li>3</li>\n",
       "\t<li>4</li>\n",
       "\t<li>5</li>\n",
       "\t<li>6</li>\n",
       "\t<li>7</li>\n",
       "\t<li>8</li>\n",
       "\t<li>9</li>\n",
       "\t<li>10</li>\n",
       "</ol>\n"
      ],
      "text/latex": [
       "\\begin{enumerate*}\n",
       "\\item 1\n",
       "\\item 2\n",
       "\\item 3\n",
       "\\item 4\n",
       "\\item 5\n",
       "\\item 6\n",
       "\\item 7\n",
       "\\item 8\n",
       "\\item 9\n",
       "\\item 10\n",
       "\\end{enumerate*}\n"
      ],
      "text/markdown": [
       "1. 1\n",
       "2. 2\n",
       "3. 3\n",
       "4. 4\n",
       "5. 5\n",
       "6. 6\n",
       "7. 7\n",
       "8. 8\n",
       "9. 9\n",
       "10. 10\n",
       "\n",
       "\n"
      ],
      "text/plain": [
       " [1]  1  2  3  4  5  6  7  8  9 10"
      ]
     },
     "metadata": {},
     "output_type": "display_data"
    },
    {
     "data": {
      "text/html": [
       "<ol class=list-inline>\n",
       "\t<li>1</li>\n",
       "\t<li>1.1</li>\n",
       "\t<li>1.2</li>\n",
       "</ol>\n"
      ],
      "text/latex": [
       "\\begin{enumerate*}\n",
       "\\item 1\n",
       "\\item 1.1\n",
       "\\item 1.2\n",
       "\\end{enumerate*}\n"
      ],
      "text/markdown": [
       "1. 1\n",
       "2. 1.1\n",
       "3. 1.2\n",
       "\n",
       "\n"
      ],
      "text/plain": [
       "[1] 1.0 1.1 1.2"
      ]
     },
     "metadata": {},
     "output_type": "display_data"
    },
    {
     "name": "stdout",
     "output_type": "stream",
     "text": [
      "[1] \"hello\"\n"
     ]
    }
   ],
   "source": [
    "# Create 100 standard normals\n",
    "set.seed(1)\n",
    "x <- rnorm(100, mean = 0, sd = 1)\n",
    "\n",
    "length(x) # Find the length of the vector x.\n",
    "mean(x) # Compute the mean of x\n",
    "sd(x) # Compute the standard deviation of x\n",
    "median(x) # Compute the median value of the vector x\n",
    "range(x) # Compute the range (min, max) of a variable\n",
    "sum(x) # Find the sum of all the numbers in x\n",
    "cumsum(x)[1:3] # Do a cumulative sum of the values in x\n",
    "head(x, 3) # Display the first 3 elements of x\n",
    "summary(x) # Display summary statistics on x\n",
    "sort(x, decreasing = TRUE)[1:3] # Sort x from largest to smallest.\n",
    "diff(x)[1:4] # Compute the successive difference in  x\n",
    "1:10 # Create an integer sequence from 1 to 10\n",
    "seq(1, 10, 0.1)[1:3] # A sequence from 1 to 10 in steps of 0.1\n",
    "print(\"hello\") # Print the string hello to the screen"
   ]
  },
  {
   "cell_type": "markdown",
   "metadata": {},
   "source": [
    "### Branching and looping"
   ]
  },
  {
   "cell_type": "code",
   "execution_count": null,
   "metadata": {},
   "outputs": [],
   "source": [
    "# Define a boolean variable\n",
    "my_boolean <- 1 == 2\n",
    "\n",
    "if (my_boolean) {\n",
    "  print(\"not correct\")\n",
    "} else {\n",
    "  print(\"XYZ\")\n",
    "}\n",
    "\n",
    "for(i in 1:5) {\n",
    "    cat(i, \"\\n\")\n",
    "}\n",
    "## 1\n",
    "## 2\n",
    "## 3\n",
    "## 4\n",
    "## 5\n",
    "\n",
    "some_list <- list()\n",
    "for(z in c(\"hello\", \"goodbye\")) {\n",
    "  some_list[[z]] <- z\n",
    "}\n",
    "\n",
    "some_list\n",
    "## $hello\n",
    "## [1] \"hello\"\n",
    "\n",
    "## $goodbye\n",
    "## [1] \"goodbye\""
   ]
  },
  {
   "cell_type": "code",
   "execution_count": null,
   "metadata": {},
   "outputs": [],
   "source": []
  },
  {
   "cell_type": "code",
   "execution_count": null,
   "metadata": {},
   "outputs": [],
   "source": []
  },
  {
   "cell_type": "code",
   "execution_count": null,
   "metadata": {},
   "outputs": [],
   "source": []
  }
 ],
 "metadata": {
  "kernelspec": {
   "display_name": "R",
   "language": "R",
   "name": "ir"
  },
  "language_info": {
   "codemirror_mode": "r",
   "file_extension": ".r",
   "mimetype": "text/x-r-source",
   "name": "R",
   "pygments_lexer": "r",
   "version": "3.6.1"
  }
 },
 "nbformat": 4,
 "nbformat_minor": 2
}
